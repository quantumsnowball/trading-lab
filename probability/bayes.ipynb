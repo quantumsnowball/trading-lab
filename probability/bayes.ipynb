{
 "cells": [
  {
   "cell_type": "markdown",
   "metadata": {},
   "source": [
    "# Bayes Theorem"
   ]
  },
  {
   "cell_type": "markdown",
   "metadata": {},
   "source": [
    "## Bayes' Theorem:\n",
    "\n",
    "[Wikipedia](https://en.wikipedia.org/wiki/Bayes%27_theorem)\n",
    "\n",
    "Normally when the market is efficient, the probability that everyone sees are the same, and there is no edge to place any bet. However, if a trader can see some evidence that is not well know, he should have an edge and hopefully can have an edge on trading. Bayes Theorem is found useful to update a prior probability which is giving no edge, to a posterior probability that maybe profitable to trade on."
   ]
  },
  {
   "cell_type": "markdown",
   "metadata": {},
   "source": [
    "## Formula\n",
    "\n",
    "$P(A|B) = \\dfrac{P(B|A)\\ P(A)}{P(B)}$\n",
    "\n",
    "or\n",
    "\n",
    "$P(A|B) = \\dfrac{P(B|A)P(A)}{P(B|A)P(A) + P(B|A')P(A')}$\n",
    "\n",
    "or\n",
    "\n",
    "$P(A|B) = \\dfrac{P(B|A)P(A)}{\\sum_{A'}{P(B|A')}{P(A')}}$"
   ]
  },
  {
   "cell_type": "code",
   "execution_count": 1,
   "metadata": {},
   "outputs": [],
   "source": [
    "from fractions import Fraction"
   ]
  },
  {
   "cell_type": "code",
   "execution_count": 2,
   "metadata": {},
   "outputs": [],
   "source": [
    "def bayes_basic(p_A: float, p_B_given_A: float, p_B: float):\n",
    "    p_A_given_B = p_B_given_A * p_A / p_B\n",
    "    return p_A_given_B\n",
    "\n",
    "def cal_bayes_basic(*, A: str, B: str, \n",
    "                    p_A: float, p_B_given_A: float, p_B: float):\n",
    "    p_A_given_B = bayes_basic(p_A, p_B_given_A, p_B)\n",
    "\n",
    "    print(f'P({A}) = {Fraction(p_A).limit_denominator()}')\n",
    "    print(f'P({B}) = {Fraction(p_B).limit_denominator()}')\n",
    "    print(f'P({B}|{A}) = {Fraction(p_B_given_A).limit_denominator()}')\n",
    "    print('Therefore,')\n",
    "    print(f'P({A}|{B}) = {Fraction(p_A_given_B).limit_denominator()}')\n"
   ]
  },
  {
   "cell_type": "code",
   "execution_count": 3,
   "metadata": {},
   "outputs": [
    {
     "name": "stdout",
     "output_type": "stream",
     "text": [
      "P(6) = 1/6\n",
      "P(even) = 1/2\n",
      "P(even|6) = 1\n",
      "Therefore,\n",
      "P(6|even) = 1/3\n"
     ]
    }
   ],
   "source": [
    "# Example 1 - dice\n",
    "cal_bayes_basic(A='6', B='even', p_A=1/6, p_B=1/2, p_B_given_A=1)"
   ]
  },
  {
   "cell_type": "code",
   "execution_count": 4,
   "metadata": {},
   "outputs": [
    {
     "name": "stdout",
     "output_type": "stream",
     "text": [
      "P(5) = 1/13\n",
      "P(red) = 1/2\n",
      "P(red|5) = 1/2\n",
      "Therefore,\n",
      "P(5|red) = 1/13\n"
     ]
    }
   ],
   "source": [
    "# Example 2 - card\n",
    "cal_bayes_basic(A='5', B='red', p_A=4/52, p_B=1/2, p_B_given_A=1/2)"
   ]
  },
  {
   "cell_type": "code",
   "execution_count": 5,
   "metadata": {},
   "outputs": [
    {
     "name": "stdout",
     "output_type": "stream",
     "text": [
      "P(even) = 5/13\n",
      "P(red) = 1/2\n",
      "P(red|even) = 1/2\n",
      "Therefore,\n",
      "P(even|red) = 5/13\n"
     ]
    }
   ],
   "source": [
    "# Example 3 - card\n",
    "cal_bayes_basic(A='even', B='red', p_A=20/52, p_B=26/52, p_B_given_A=10/20)"
   ]
  }
 ],
 "metadata": {
  "kernelspec": {
   "display_name": "Python 3.11.0rc1 64-bit ('3.11.0rc1')",
   "language": "python",
   "name": "python3"
  },
  "language_info": {
   "codemirror_mode": {
    "name": "ipython",
    "version": 3
   },
   "file_extension": ".py",
   "mimetype": "text/x-python",
   "name": "python",
   "nbconvert_exporter": "python",
   "pygments_lexer": "ipython3",
   "version": "3.11.0rc1"
  },
  "orig_nbformat": 4,
  "vscode": {
   "interpreter": {
    "hash": "b415c6af4435325a5ba3b68be7ef9046ee4e07c3d5967857168836659cc55c30"
   }
  }
 },
 "nbformat": 4,
 "nbformat_minor": 2
}
