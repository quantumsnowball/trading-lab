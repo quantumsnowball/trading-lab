{
 "cells": [
  {
   "cell_type": "markdown",
   "metadata": {},
   "source": [
    "# Kelly Criterion \n",
    "\n",
    "[Wikipedia](https://en.wikipedia.org/wiki/Kelly_criterion)\n",
    "\n",
    "In probability theory, the Kelly criterion (or Kelly strategy or Kelly bet), is a formula that determines the optimal theoretical size for a bet."
   ]
  },
  {
   "cell_type": "markdown",
   "metadata": {},
   "source": [
    "## Formula (Gambling)\n",
    "\n",
    "$f* = p - \\dfrac{q}{b} = p - \\dfrac{(1-p)}{b}$ \n",
    "\n",
    "where \n",
    "\n",
    "* $f^{*}$ is the fraction of the current bankroll to wager.\n",
    "* $p$ is the probability of a win.\n",
    "* $q$ is the probability of a loss.\n",
    "* $b$ is the proportion of the bet gained with a win. E.g. If betting 10 dollar on a 2-to-1 odds bet, (upon win you are returned 30 dollar, winning you 20 collar), then $b=2$."
   ]
  },
  {
   "cell_type": "code",
   "execution_count": 1,
   "metadata": {},
   "outputs": [],
   "source": [
    "def kelly(p, b):\n",
    "    f = p - (1 - p) / b\n",
    "    return f"
   ]
  },
  {
   "cell_type": "code",
   "execution_count": 2,
   "metadata": {},
   "outputs": [
    {
     "name": "stdout",
     "output_type": "stream",
     "text": [
      "-0.19999999999999996\n",
      "0.0\n",
      "0.19999999999999996\n"
     ]
    }
   ],
   "source": [
    "print(kelly(0.4, 1))\n",
    "print(kelly(0.5, 1))\n",
    "print(kelly(0.6, 1))"
   ]
  },
  {
   "cell_type": "code",
   "execution_count": 3,
   "metadata": {},
   "outputs": [
    {
     "name": "stdout",
     "output_type": "stream",
     "text": [
      "-0.09999999999999998\n",
      "0.0\n",
      "0.08333333333333331\n"
     ]
    }
   ],
   "source": [
    "print(kelly(0.5, 1/1.2))\n",
    "print(kelly(0.5, 1.0))\n",
    "print(kelly(0.5, 1*1.2))"
   ]
  },
  {
   "cell_type": "markdown",
   "metadata": {},
   "source": [
    "## Formula (Investment)\n",
    "\n",
    "$f* = \\dfrac{p}{a} - \\dfrac{q}{b}$\n",
    "\n",
    "where\n",
    "\n",
    "* $f^{*}$ is the fraction of the assets to apply to the security.\n",
    "* $p$ is the probability that the investment increases in value.\n",
    "* $q$ is the probability that the investment decreases in value.\n",
    "* $a$ is the fraction that is lost in a negative outcome. If the security price falls 10%, then $a=0.1$.\n",
    "* $b$ is the fraction that is gained in a positive outcome. If the security price rises 10%, then $b=0.1$.\n"
   ]
  },
  {
   "cell_type": "code",
   "execution_count": 4,
   "metadata": {},
   "outputs": [],
   "source": [
    "def kelly_inv(p, a, b):\n",
    "    f = p / a - (1 - p) / b\n",
    "    return f"
   ]
  },
  {
   "cell_type": "code",
   "execution_count": 5,
   "metadata": {},
   "outputs": [
    {
     "name": "stdout",
     "output_type": "stream",
     "text": [
      "0.0\n",
      "0.0\n",
      "0.0\n"
     ]
    }
   ],
   "source": [
    "print(kelly_inv(0.5, 0.5, 0.5))\n",
    "print(kelly_inv(0.5, 1, 1))\n",
    "print(kelly_inv(0.5, 0.8, 0.8))"
   ]
  },
  {
   "cell_type": "code",
   "execution_count": 6,
   "metadata": {},
   "outputs": [
    {
     "name": "stdout",
     "output_type": "stream",
     "text": [
      "-0.16666666666666663\n",
      "0.0\n",
      "0.25\n"
     ]
    }
   ],
   "source": [
    "print(kelly_inv(0.5, 0.6, 0.5))\n",
    "print(kelly_inv(0.5, 0.5, 0.5))\n",
    "print(kelly_inv(0.5, 0.4, 0.5))"
   ]
  },
  {
   "cell_type": "code",
   "execution_count": 9,
   "metadata": {},
   "outputs": [
    {
     "name": "stdout",
     "output_type": "stream",
     "text": [
      "0.0\n",
      "0.40000000000000036\n",
      "0.8000000000000007\n",
      "1.200000000000001\n"
     ]
    }
   ],
   "source": [
    "print(kelly_inv(0.50, .05, .05))\n",
    "print(kelly_inv(0.51, .05, .05))\n",
    "print(kelly_inv(0.52, .05, .05))\n",
    "print(kelly_inv(0.53, .05, .05))"
   ]
  },
  {
   "cell_type": "code",
   "execution_count": 18,
   "metadata": {},
   "outputs": [
    {
     "name": "stdout",
     "output_type": "stream",
     "text": [
      "0.500000045314664\n",
      "0.5000000000175078\n",
      "0.5\n",
      "0.5000000000000027\n",
      "0.5000000000000004\n",
      "0.49999999999999956\n",
      "0.4999999999999998\n",
      "0.4999999999999998\n",
      "0.5\n"
     ]
    }
   ],
   "source": [
    "# risk neutral behavior\n",
    "print(kelly_inv(0.50, abs(1/1.00001-1), 1.00001-1))\n",
    "print(kelly_inv(0.50, abs(1/1.001-1), 1.001-1))\n",
    "print(kelly_inv(0.50, abs(1/1.01-1), 1.01-1))\n",
    "print(kelly_inv(0.50, abs(1/1.1-1), 1.1-1))\n",
    "print(kelly_inv(0.50, abs(1/1.2-1), 1.2-1))\n",
    "print(kelly_inv(0.50, abs(1/1.3-1), 1.3-1))\n",
    "print(kelly_inv(0.50, abs(1/1.4-1), 1.4-1))\n",
    "print(kelly_inv(0.50, abs(1/1.5-1), 1.5-1))\n",
    "print(kelly_inv(0.50, abs(1/1.6-1), 1.6-1))"
   ]
  }
 ],
 "metadata": {
  "kernelspec": {
   "display_name": "Python 3.11.0rc1 64-bit ('3.11.0rc1')",
   "language": "python",
   "name": "python3"
  },
  "language_info": {
   "codemirror_mode": {
    "name": "ipython",
    "version": 3
   },
   "file_extension": ".py",
   "mimetype": "text/x-python",
   "name": "python",
   "nbconvert_exporter": "python",
   "pygments_lexer": "ipython3",
   "version": "3.11.0"
  },
  "orig_nbformat": 4,
  "vscode": {
   "interpreter": {
    "hash": "b415c6af4435325a5ba3b68be7ef9046ee4e07c3d5967857168836659cc55c30"
   }
  }
 },
 "nbformat": 4,
 "nbformat_minor": 2
}
