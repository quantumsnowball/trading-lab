{
 "cells": [
  {
   "cell_type": "markdown",
   "metadata": {},
   "source": [
    "# Bayes on SPY Price"
   ]
  },
  {
   "cell_type": "markdown",
   "metadata": {},
   "source": [
    "## Example 1:\n",
    "\n",
    "`Hypothesis`: SPY stock price goes up in one week\n",
    "\n",
    "`Evidence`: price ranking in 500 days higher than 50%\n",
    "\n",
    "\n",
    "$P(H|E) = \\dfrac{P(E|H)\\ P(H)}{P(E)}$\n"
   ]
  },
  {
   "cell_type": "code",
   "execution_count": 1,
   "metadata": {},
   "outputs": [],
   "source": [
    "import random\n",
    "random.seed(999)"
   ]
  },
  {
   "cell_type": "code",
   "execution_count": 2,
   "metadata": {},
   "outputs": [],
   "source": [
    "SYMBOL = 'SPY'\n",
    "WINDOW = 365\n",
    "FUTURE = 5\n",
    "THRESHOLD = 0.9\n",
    "SAMPLE_SIZE = 500\n"
   ]
  },
  {
   "cell_type": "code",
   "execution_count": 3,
   "metadata": {},
   "outputs": [],
   "source": [
    "from btbox import import_yahoo_csv\n",
    "from pandas import Series, DataFrame\n",
    "from random import randint"
   ]
  },
  {
   "cell_type": "code",
   "execution_count": 4,
   "metadata": {},
   "outputs": [],
   "source": [
    "ohlcv = import_yahoo_csv(f'../../_data_/{SYMBOL}_bar1day.csv')"
   ]
  },
  {
   "cell_type": "code",
   "execution_count": 5,
   "metadata": {},
   "outputs": [],
   "source": [
    "def sampling(sr: Series, draw: int) -> tuple[bool, bool]:\n",
    "    for _ in range(draw):\n",
    "        j = randint(WINDOW, len(sr) - 1 - FUTURE)\n",
    "        win: Series = sr.iloc[j - WINDOW:j]\n",
    "        future = sr.iloc[j:j + FUTURE]\n",
    "        future_price_chg = future[-1] / future[0] - 1\n",
    "        hypothesis = future_price_chg > 0\n",
    "        current_price_ranking_pct = win.rank(pct=True).iloc[-1]\n",
    "        evidence = current_price_ranking_pct > THRESHOLD\n",
    "        yield (hypothesis, evidence)\n",
    "\n",
    "\n",
    "samples1 = DataFrame([s for s in sampling(ohlcv.Close, SAMPLE_SIZE)],\n",
    "                     columns=['Hypothesis', 'Evidence'])\n",
    "samples2 = DataFrame([s for s in sampling(ohlcv.Close, SAMPLE_SIZE)],\n",
    "                     columns=['Hypothesis', 'Evidence'])\n"
   ]
  },
  {
   "cell_type": "code",
   "execution_count": 6,
   "metadata": {},
   "outputs": [],
   "source": [
    "p_H = samples1.Hypothesis.sum() / len(samples1)\n",
    "p_E = samples1.Evidence.sum() / len(samples1)\n",
    "samples_H = samples1[samples1.Hypothesis].Evidence\n",
    "p_E_given_H = samples_H.sum() / len(samples_H)\n",
    "\n",
    "samples_E = samples2[samples2.Evidence].Hypothesis\n",
    "p_H_given_E = samples_E.sum() / len(samples_E)\n"
   ]
  },
  {
   "cell_type": "code",
   "execution_count": 7,
   "metadata": {},
   "outputs": [
    {
     "data": {
      "text/plain": [
       "{'prior': 0.584, 'posteriors': 0.5551601423487544}"
      ]
     },
     "execution_count": 7,
     "metadata": {},
     "output_type": "execute_result"
    }
   ],
   "source": [
    "dict(prior=p_H, posteriors=p_E_given_H * p_H / p_E)\n"
   ]
  },
  {
   "cell_type": "code",
   "execution_count": 8,
   "metadata": {},
   "outputs": [
    {
     "data": {
      "text/plain": [
       "{'likelihood': 0.5342465753424658, 'bayes_factor': 0.9506166821040315}"
      ]
     },
     "execution_count": 8,
     "metadata": {},
     "output_type": "execute_result"
    }
   ],
   "source": [
    "dict(likelihood = p_E_given_H, bayes_factor = p_E_given_H / p_E)"
   ]
  },
  {
   "cell_type": "code",
   "execution_count": 9,
   "metadata": {},
   "outputs": [
    {
     "data": {
      "text/plain": [
       "{'actual': 0.613013698630137}"
      ]
     },
     "execution_count": 9,
     "metadata": {},
     "output_type": "execute_result"
    }
   ],
   "source": [
    "dict(actual=p_H_given_E)"
   ]
  }
 ],
 "metadata": {
  "kernelspec": {
   "display_name": "Python 3.11.0 64-bit ('3.11.0')",
   "language": "python",
   "name": "python3"
  },
  "language_info": {
   "codemirror_mode": {
    "name": "ipython",
    "version": 3
   },
   "file_extension": ".py",
   "mimetype": "text/x-python",
   "name": "python",
   "nbconvert_exporter": "python",
   "pygments_lexer": "ipython3",
   "version": "3.11.0"
  },
  "orig_nbformat": 4,
  "vscode": {
   "interpreter": {
    "hash": "8792492782f69897fa15143d48526a4a7ddfc190ec72e20bf5cff69cd14f92a0"
   }
  }
 },
 "nbformat": 4,
 "nbformat_minor": 2
}
