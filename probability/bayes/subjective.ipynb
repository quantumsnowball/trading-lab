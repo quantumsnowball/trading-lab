{
 "cells": [
  {
   "cell_type": "markdown",
   "metadata": {},
   "source": [
    "# Bayes Theorem"
   ]
  },
  {
   "cell_type": "markdown",
   "metadata": {},
   "source": [
    "## Bayes' Theorem:\n",
    "\n",
    "[Wikipedia](https://en.wikipedia.org/wiki/Bayes%27_theorem)\n",
    "\n",
    "While bayes theorem is useful when the probability value is well know, but in real life this is not always practical, because real life probability is mostly estimation, and sometimes can be very far away from the true probability. However, although the true probability is unknown, it can still give some insight in a philosophical view."
   ]
  },
  {
   "cell_type": "markdown",
   "metadata": {},
   "source": [
    "## Formula\n",
    "\n",
    "$P(A|B) = \\dfrac{P(B|A)\\ P(A)}{P(B)}$\n",
    "\n",
    "or\n",
    "\n",
    "$P(A|B) = \\dfrac{P(B|A)P(A)}{P(B|A)P(A) + P(B|A')P(A')}$\n",
    "\n",
    "or\n",
    "\n",
    "$P(A|B) = \\dfrac{P(B|A)P(A)}{\\sum_{A'}{P(B|A')}{P(A')}}$"
   ]
  },
  {
   "cell_type": "code",
   "execution_count": 1,
   "metadata": {},
   "outputs": [],
   "source": [
    "from IPython.display import display, Markdown"
   ]
  },
  {
   "cell_type": "code",
   "execution_count": 2,
   "metadata": {},
   "outputs": [],
   "source": [
    "from bayes import Bayes, Event"
   ]
  },
  {
   "cell_type": "code",
   "execution_count": 8,
   "metadata": {},
   "outputs": [
    {
     "data": {
      "text/markdown": [
       "$P(Earn|GoodSt) = \\dfrac{P(GoodSt|Earn)P(Earn)}{P(GoodSt)}$"
      ],
      "text/plain": [
       "<IPython.core.display.Markdown object>"
      ]
     },
     "metadata": {},
     "output_type": "display_data"
    },
    {
     "data": {
      "text/plain": [
       "3/4"
      ]
     },
     "execution_count": 8,
     "metadata": {},
     "output_type": "execute_result"
    }
   ],
   "source": [
    "a = Event('Earn', 1/2)\n",
    "b = Event('GoodSt', 1/2).given(a, 3/4)\n",
    "cond = Bayes(a, b)\n",
    "cond.formula.basic\n",
    "cond.prob"
   ]
  },
  {
   "cell_type": "code",
   "execution_count": null,
   "metadata": {},
   "outputs": [
    {
     "data": {
      "text/markdown": [
       "$P(Earn|GoodSt) = \\dfrac{P(GoodSt|Earn)P(Earn)}{P(GoodSt)}$"
      ],
      "text/plain": [
       "<IPython.core.display.Markdown object>"
      ]
     },
     "metadata": {},
     "output_type": "display_data"
    },
    {
     "data": {
      "text/plain": [
       "3/4"
      ]
     },
     "metadata": {},
     "output_type": "display_data"
    }
   ],
   "source": [
    "a = Event('HavdDisease', 1/2)\n",
    "b = Event('TestPositive', 1/2).given(a, 3/4)\n",
    "cond = Bayes(a, b)\n",
    "cond.formula.basic\n",
    "cond.prob"
   ]
  },
  {
   "cell_type": "code",
   "execution_count": 4,
   "metadata": {},
   "outputs": [
    {
     "data": {
      "text/markdown": [
       "$P(HaveDisease|TestPositive) = \\dfrac{P(TestPositive|HaveDisease)P(HaveDisease)}{P(TestPositive|HaveDisease)P(HaveDisease) + P(TestPositive|\\neg{HaveDisease})P(\\neg{HaveDisease})}$"
      ],
      "text/plain": [
       "<IPython.core.display.Markdown object>"
      ]
     },
     "metadata": {},
     "output_type": "display_data"
    }
   ],
   "source": [
    "Bayes(Event('HaveDisease'), Event('TestPositive')).formula.long"
   ]
  },
  {
   "cell_type": "code",
   "execution_count": 5,
   "metadata": {},
   "outputs": [
    {
     "data": {
      "text/markdown": [
       "$P(H|E) = \\dfrac{P(E|H)P(H)}{P(E|H)P(H) + P(E|\\neg{H})P(\\neg{H})}$"
      ],
      "text/plain": [
       "<IPython.core.display.Markdown object>"
      ]
     },
     "metadata": {},
     "output_type": "display_data"
    }
   ],
   "source": [
    "Bayes(Event('H'), Event('E')).formula.long"
   ]
  }
 ],
 "metadata": {
  "kernelspec": {
   "display_name": "Python 3.11.0 64-bit ('3.11.0')",
   "language": "python",
   "name": "python3"
  },
  "language_info": {
   "codemirror_mode": {
    "name": "ipython",
    "version": 3
   },
   "file_extension": ".py",
   "mimetype": "text/x-python",
   "name": "python",
   "nbconvert_exporter": "python",
   "pygments_lexer": "ipython3",
   "version": "3.11.0"
  },
  "orig_nbformat": 4,
  "vscode": {
   "interpreter": {
    "hash": "8792492782f69897fa15143d48526a4a7ddfc190ec72e20bf5cff69cd14f92a0"
   }
  }
 },
 "nbformat": 4,
 "nbformat_minor": 2
}
