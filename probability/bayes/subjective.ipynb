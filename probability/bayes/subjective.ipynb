{
 "cells": [
  {
   "cell_type": "markdown",
   "metadata": {},
   "source": [
    "# Bayes Theorem"
   ]
  },
  {
   "cell_type": "markdown",
   "metadata": {},
   "source": [
    "## Bayes' Theorem:\n",
    "\n",
    "[Wikipedia](https://en.wikipedia.org/wiki/Bayes%27_theorem)\n",
    "\n",
    "While bayes theorem is useful when the probability value is well know, but in real life this is not always practical, because real life probability is mostly estimation, and sometimes can be very far away from the true probability. However, although the true probability is unknown, it can still give some insight in a philosophical view."
   ]
  },
  {
   "cell_type": "markdown",
   "metadata": {},
   "source": [
    "## Formula\n",
    "\n",
    "$P(A|B) = \\dfrac{P(B|A)\\ P(A)}{P(B)}$\n",
    "\n",
    "or\n",
    "\n",
    "$P(A|B) = \\dfrac{P(B|A)P(A)}{P(B|A)P(A) + P(B|A')P(A')}$\n",
    "\n",
    "or\n",
    "\n",
    "$P(A|B) = \\dfrac{P(B|A)P(A)}{\\sum_{A'}{P(B|A')}{P(A')}}$"
   ]
  },
  {
   "cell_type": "code",
   "execution_count": 1,
   "metadata": {},
   "outputs": [],
   "source": [
    "from IPython.display import display, Markdown"
   ]
  },
  {
   "cell_type": "code",
   "execution_count": 2,
   "metadata": {},
   "outputs": [],
   "source": [
    "from bayes import Bayes, Event"
   ]
  },
  {
   "cell_type": "code",
   "execution_count": 3,
   "metadata": {},
   "outputs": [
    {
     "data": {
      "text/plain": [
       "<bayes.formula.Formula at 0x7f70746ac090>"
      ]
     },
     "execution_count": 3,
     "metadata": {},
     "output_type": "execute_result"
    }
   ],
   "source": [
    "Bayes(Event('Earn'), Event('GoodSt')).formula"
   ]
  },
  {
   "cell_type": "code",
   "execution_count": 4,
   "metadata": {},
   "outputs": [
    {
     "ename": "AttributeError",
     "evalue": "'str' object has no attribute 'name'",
     "output_type": "error",
     "traceback": [
      "\u001b[0;31m---------------------------------------------------------------------------\u001b[0m",
      "\u001b[0;31mAttributeError\u001b[0m                            Traceback (most recent call last)",
      "Cell \u001b[0;32mIn [4], line 1\u001b[0m\n\u001b[0;32m----> 1\u001b[0m Bayes(eventA\u001b[39m=\u001b[39;49m\u001b[39m'\u001b[39;49m\u001b[39mHaveDisease\u001b[39;49m\u001b[39m'\u001b[39;49m, eventB\u001b[39m=\u001b[39;49m\u001b[39m'\u001b[39;49m\u001b[39mTestPositive\u001b[39;49m\u001b[39m'\u001b[39;49m)\u001b[39m.\u001b[39mformula_long\n",
      "File \u001b[0;32m~/Dev/trading-lab/probability/bayes/bayes/__init__.py:11\u001b[0m, in \u001b[0;36mBayes.__init__\u001b[0;34m(self, eventA, eventB)\u001b[0m\n\u001b[1;32m      9\u001b[0m \u001b[39mself\u001b[39m\u001b[39m.\u001b[39m_a \u001b[39m=\u001b[39m eventA\n\u001b[1;32m     10\u001b[0m \u001b[39mself\u001b[39m\u001b[39m.\u001b[39m_b \u001b[39m=\u001b[39m eventB\n\u001b[0;32m---> 11\u001b[0m \u001b[39mself\u001b[39m\u001b[39m.\u001b[39m_formula \u001b[39m=\u001b[39m Formula(\u001b[39mself\u001b[39;49m\u001b[39m.\u001b[39;49m_a\u001b[39m.\u001b[39;49mname,\n\u001b[1;32m     12\u001b[0m                         \u001b[39mself\u001b[39m\u001b[39m.\u001b[39m_b\u001b[39m.\u001b[39mname)\n",
      "\u001b[0;31mAttributeError\u001b[0m: 'str' object has no attribute 'name'"
     ]
    }
   ],
   "source": [
    "Bayes(Event('HaveDisease'), Event('TestPositive')).formula_long"
   ]
  },
  {
   "cell_type": "code",
   "execution_count": null,
   "metadata": {},
   "outputs": [
    {
     "data": {
      "text/markdown": [
       "$P(H|E) = \\dfrac{P(E|H)P(H)}{P(E|H)P(H) + P(E|\\neg{H})P(\\neg{H})}$"
      ],
      "text/plain": [
       "<IPython.core.display.Markdown object>"
      ]
     },
     "metadata": {},
     "output_type": "display_data"
    }
   ],
   "source": [
    "Bayes(eventA='H', eventB='E').formula_long"
   ]
  }
 ],
 "metadata": {
  "kernelspec": {
   "display_name": "Python 3.11.0 64-bit ('3.11.0')",
   "language": "python",
   "name": "python3"
  },
  "language_info": {
   "codemirror_mode": {
    "name": "ipython",
    "version": 3
   },
   "file_extension": ".py",
   "mimetype": "text/x-python",
   "name": "python",
   "nbconvert_exporter": "python",
   "pygments_lexer": "ipython3",
   "version": "3.11.0"
  },
  "orig_nbformat": 4,
  "vscode": {
   "interpreter": {
    "hash": "8792492782f69897fa15143d48526a4a7ddfc190ec72e20bf5cff69cd14f92a0"
   }
  }
 },
 "nbformat": 4,
 "nbformat_minor": 2
}
